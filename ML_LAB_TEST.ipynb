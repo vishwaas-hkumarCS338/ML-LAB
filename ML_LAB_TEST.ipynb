{
  "nbformat": 4,
  "nbformat_minor": 0,
  "metadata": {
    "colab": {
      "provenance": []
    },
    "kernelspec": {
      "name": "python3",
      "display_name": "Python 3"
    },
    "language_info": {
      "name": "python"
    }
  },
  "cells": [
    {
      "cell_type": "code",
      "source": [
        "#Using an appropriate dataset, implement an SVM model. Evaluate the model's performance and compare it with K-Nearest neighbours"
      ],
      "metadata": {
        "id": "JoGvjX0q24N5"
      },
      "execution_count": null,
      "outputs": []
    },
    {
      "cell_type": "code",
      "source": [
        "from sklearn.datasets import load_iris\n",
        "from sklearn.model_selection import train_test_split\n",
        "from sklearn.preprocessing import StandardScaler\n",
        "from sklearn.svm import SVC\n",
        "from sklearn.neighbors import KNeighborsClassifier\n",
        "from sklearn.metrics import accuracy_score, confusion_matrix, classification_report\n",
        "\n",
        "\n",
        "iris = load_iris()\n",
        "X, y = iris.data, iris.target\n",
        "\n",
        "X_train, X_test, y_train, y_test = train_test_split(X, y, test_size=0.3, random_state=42)\n",
        "\n",
        "scaler = StandardScaler()\n",
        "X_train = scaler.fit_transform(X_train)\n",
        "X_test = scaler.transform(X_test)\n",
        "\n",
        "svm_model = SVC(kernel='linear')\n",
        "svm_model.fit(X_train, y_train)\n",
        "svm_preds = svm_model.predict(X_test)\n",
        "\n",
        "knn_model = KNeighborsClassifier(n_neighbors=3)\n",
        "knn_model.fit(X_train, y_train)\n",
        "knn_preds = knn_model.predict(X_test)\n",
        "\n",
        "print(\"=== SVM Performance ===\")\n",
        "print(\"Accuracy:\", accuracy_score(y_test, svm_preds))\n",
        "print(\"Confusion Matrix:\\n\", confusion_matrix(y_test, svm_preds))\n",
        "print(\"Classification Report:\\n\", classification_report(y_test, svm_preds))\n",
        "\n",
        "print(\"\\n=== KNN Performance ===\")\n",
        "print(\"Accuracy:\", accuracy_score(y_test, knn_preds))\n",
        "print(\"Confusion Matrix:\\n\", confusion_matrix(y_test, knn_preds))\n",
        "print(\"Classification Report:\\n\", classification_report(y_test, knn_preds))\n"
      ],
      "metadata": {
        "colab": {
          "base_uri": "https://localhost:8080/"
        },
        "id": "6Ly68MzB2iK7",
        "outputId": "eb797e1a-2d39-4d69-eb72-dcd193c883d1"
      },
      "execution_count": null,
      "outputs": [
        {
          "output_type": "stream",
          "name": "stdout",
          "text": [
            "=== SVM Performance ===\n",
            "Accuracy: 0.9777777777777777\n",
            "Confusion Matrix:\n",
            " [[19  0  0]\n",
            " [ 0 12  1]\n",
            " [ 0  0 13]]\n",
            "Classification Report:\n",
            "               precision    recall  f1-score   support\n",
            "\n",
            "           0       1.00      1.00      1.00        19\n",
            "           1       1.00      0.92      0.96        13\n",
            "           2       0.93      1.00      0.96        13\n",
            "\n",
            "    accuracy                           0.98        45\n",
            "   macro avg       0.98      0.97      0.97        45\n",
            "weighted avg       0.98      0.98      0.98        45\n",
            "\n",
            "\n",
            "=== KNN Performance ===\n",
            "Accuracy: 1.0\n",
            "Confusion Matrix:\n",
            " [[19  0  0]\n",
            " [ 0 13  0]\n",
            " [ 0  0 13]]\n",
            "Classification Report:\n",
            "               precision    recall  f1-score   support\n",
            "\n",
            "           0       1.00      1.00      1.00        19\n",
            "           1       1.00      1.00      1.00        13\n",
            "           2       1.00      1.00      1.00        13\n",
            "\n",
            "    accuracy                           1.00        45\n",
            "   macro avg       1.00      1.00      1.00        45\n",
            "weighted avg       1.00      1.00      1.00        45\n",
            "\n"
          ]
        }
      ]
    },
    {
      "cell_type": "code",
      "source": [
        "import matplotlib.pyplot as plt\n",
        "\n",
        "labels = ['Accuracy', 'F1 Score']\n",
        "svm = [0.9778, 0.97]\n",
        "knn = [1.0, 1.0]\n",
        "\n",
        "x = range(len(labels))\n",
        "plt.bar(x, svm, width=0.4, label='SVM', align='center')\n",
        "plt.bar([i + 0.4 for i in x], knn, width=0.4, label='KNN', align='center')\n",
        "\n",
        "plt.xticks([i + 0.2 for i in x], labels)\n",
        "plt.ylabel('Score')\n",
        "plt.title('SVM vs KNN Performance')\n",
        "plt.ylim(0.9, 1.05)\n",
        "plt.legend()\n",
        "\n",
        "plt.show()\n"
      ],
      "metadata": {
        "colab": {
          "base_uri": "https://localhost:8080/",
          "height": 452
        },
        "id": "f7jRoXWZ5glx",
        "outputId": "89240213-e95b-4bd4-9a30-4bdb6fa4c50c"
      },
      "execution_count": null,
      "outputs": [
        {
          "output_type": "display_data",
          "data": {
            "text/plain": [
              "<Figure size 640x480 with 1 Axes>"
            ],
            "image/png": "[encoded data removed]"
          },
          "metadata": {}
        }
      ]
    },
    {
      "cell_type": "code",
      "source": [],
      "metadata": {
        "id": "Mn7IUdqKAiGV"
      },
      "execution_count": null,
      "outputs": []
    }
  ]
}