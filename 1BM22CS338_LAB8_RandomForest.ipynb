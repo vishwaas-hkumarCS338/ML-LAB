{
  "nbformat": 4,
  "nbformat_minor": 0,
  "metadata": {
    "colab": {
      "provenance": []
    },
    "kernelspec": {
      "name": "python3",
      "display_name": "Python 3"
    },
    "language_info": {
      "name": "python"
    }
  },
  "cells": [
    {
      "cell_type": "markdown",
      "source": [
        "#Q1 - Train Dataset"
      ],
      "metadata": {
        "id": "ayVVI1hnreYj"
      }
    },
    {
      "cell_type": "code",
      "execution_count": 4,
      "metadata": {
        "colab": {
          "base_uri": "https://localhost:8080/"
        },
        "id": "qrt7Mxvwpuap",
        "outputId": "b338a69d-119b-408f-ae39-e5112c23b2e3"
      },
      "outputs": [
        {
          "output_type": "stream",
          "name": "stdout",
          "text": [
            "Accuracy: 81.01%\n",
            "Confusion Matrix:\n",
            "[[91 14]\n",
            " [20 54]]\n"
          ]
        }
      ],
      "source": [
        "import pandas as pd\n",
        "from sklearn.model_selection import train_test_split\n",
        "from sklearn.ensemble import RandomForestClassifier\n",
        "from sklearn.metrics import accuracy_score, confusion_matrix\n",
        "from sklearn.preprocessing import LabelEncoder\n",
        "\n",
        "# Load the dataset\n",
        "train_data_path = 'train.csv'  # Replace with the correct path if necessary\n",
        "train_data = pd.read_csv(train_data_path)\n",
        "\n",
        "# Preprocess the data\n",
        "# Drop columns that are not useful for the model (e.g., Name, Ticket, PassengerId, Cabin)\n",
        "train_data_cleaned = train_data.drop(columns=['PassengerId', 'Name', 'Ticket', 'Cabin'])\n",
        "\n",
        "# Handle missing values: Fill missing 'Age' with the mean and 'Embarked' with the mode\n",
        "train_data_cleaned['Age'] = train_data_cleaned['Age'].fillna(train_data_cleaned['Age'].mean())\n",
        "train_data_cleaned['Embarked'] = train_data_cleaned['Embarked'].fillna(train_data_cleaned['Embarked'].mode()[0])\n",
        "\n",
        "\n",
        "# Encoding categorical variables 'Sex' and 'Embarked'\n",
        "label_encoder_sex = LabelEncoder()\n",
        "train_data_cleaned['Sex'] = label_encoder_sex.fit_transform(train_data_cleaned['Sex'])\n",
        "\n",
        "label_encoder_embarked = LabelEncoder()\n",
        "train_data_cleaned['Embarked'] = label_encoder_embarked.fit_transform(train_data_cleaned['Embarked'])\n",
        "\n",
        "# Split the data into features (X) and target (y)\n",
        "X = train_data_cleaned.drop(columns=['Survived'])\n",
        "y = train_data_cleaned['Survived']\n",
        "\n",
        "# Split the data into 80% training and 20% testing\n",
        "X_train, X_test, y_train, y_test = train_test_split(X, y, test_size=0.2, random_state=42)\n",
        "\n",
        "# Initialize and train the Random Forest model\n",
        "rf_model = RandomForestClassifier(n_estimators=100, random_state=42)\n",
        "rf_model.fit(X_train, y_train)\n",
        "\n",
        "# Make predictions on the test set\n",
        "y_pred = rf_model.predict(X_test)\n",
        "\n",
        "# Evaluate the model\n",
        "accuracy = accuracy_score(y_test, y_pred)\n",
        "conf_matrix = confusion_matrix(y_test, y_pred)\n",
        "\n",
        "# Print the results\n",
        "print(f\"Accuracy: {accuracy * 100:.2f}%\")\n",
        "print(\"Confusion Matrix:\")\n",
        "print(conf_matrix)\n"
      ]
    },
    {
      "cell_type": "markdown",
      "source": [
        "#Q2 - Iris Dataset"
      ],
      "metadata": {
        "id": "XpsNO3RZrj4b"
      }
    },
    {
      "cell_type": "code",
      "source": [
        "import pandas as pd\n",
        "from sklearn.model_selection import train_test_split\n",
        "from sklearn.ensemble import RandomForestClassifier\n",
        "from sklearn.metrics import accuracy_score\n",
        "from sklearn.datasets import load_iris\n",
        "\n",
        "# Load the Iris dataset\n",
        "iris = load_iris()\n",
        "X = iris.data  # Features\n",
        "y = iris.target  # Target variable (species)\n",
        "\n",
        "# Split the dataset into 80% training and 20% testing\n",
        "X_train, X_test, y_train, y_test = train_test_split(X, y, test_size=0.2, random_state=42)\n",
        "\n",
        "# 1. Train with default n_estimators=10\n",
        "rf_model_default = RandomForestClassifier(n_estimators=10, random_state=42)\n",
        "rf_model_default.fit(X_train, y_train)\n",
        "\n",
        "# Evaluate the accuracy score with default n_estimators\n",
        "y_pred_default = rf_model_default.predict(X_test)\n",
        "accuracy_default = accuracy_score(y_test, y_pred_default)\n",
        "\n",
        "print(f\"Accuracy with default n_estimators=10: {accuracy_default * 100:.2f}%\")\n",
        "\n",
        "# 2. Fine-tuning the model by changing n_estimators\n",
        "best_accuracy = 0\n",
        "best_n_estimators = 10\n",
        "\n",
        "for n_estimators in [10, 50, 100, 200, 500]:\n",
        "    rf_model = RandomForestClassifier(n_estimators=n_estimators, random_state=42)\n",
        "    rf_model.fit(X_train, y_train)\n",
        "\n",
        "    # Evaluate the model\n",
        "    y_pred = rf_model.predict(X_test)\n",
        "    accuracy = accuracy_score(y_test, y_pred)\n",
        "\n",
        "    if accuracy > best_accuracy:\n",
        "        best_accuracy = accuracy\n",
        "        best_n_estimators = n_estimators\n",
        "\n",
        "print(f\"Best accuracy achieved with n_estimators={best_n_estimators}: {best_accuracy * 100:.2f}%\")"
      ],
      "metadata": {
        "colab": {
          "base_uri": "https://localhost:8080/"
        },
        "id": "EVeG-JY-rTrr",
        "outputId": "80504afc-cb94-4933-cb25-9332e616dba0"
      },
      "execution_count": 5,
      "outputs": [
        {
          "output_type": "stream",
          "name": "stdout",
          "text": [
            "Accuracy with default n_estimators=10: 100.00%\n",
            "Best accuracy achieved with n_estimators=10: 100.00%\n"
          ]
        }
      ]
    },
    {
      "cell_type": "code",
      "source": [
        "from sklearn.datasets import load_iris\n",
        "from sklearn.ensemble import RandomForestClassifier\n",
        "from sklearn.model_selection import train_test_split\n",
        "from sklearn.preprocessing import label_binarize\n",
        "from sklearn.metrics import roc_auc_score\n",
        "import matplotlib.pyplot as plt\n",
        "\n",
        "# Load iris dataset\n",
        "iris = load_iris()\n",
        "X, y = iris.data, iris.target\n",
        "\n",
        "# Binarize the output for AUC (multiclass)\n",
        "y_binarized = label_binarize(y, classes=[0, 1, 2])\n",
        "\n",
        "# Split dataset\n",
        "X_train, X_test, y_train, y_test = train_test_split(X, y_binarized, test_size=0.2, random_state=42)\n",
        "\n",
        "# Track AUC scores\n",
        "n_estimators_list = [10, 20, 30]\n",
        "auc_scores = []\n",
        "\n",
        "# Train and compute AUC for each n_estimators value\n",
        "for n in n_estimators_list:\n",
        "    rf = RandomForestClassifier(n_estimators=n, random_state=42)\n",
        "    rf.fit(X_train, y_train)\n",
        "    y_prob = rf.predict_proba(X_test)\n",
        "\n",
        "    # For multiclass AUC, concatenate predictions from all classifiers\n",
        "    y_prob_combined = [prob[:, 1] for prob in y_prob]\n",
        "    y_prob_stack = list(map(list, zip(*y_prob_combined)))\n",
        "\n",
        "    # Compute macro AUC\n",
        "    auc = roc_auc_score(y_test, y_prob_stack, average='macro', multi_class='ovr')\n",
        "    auc_scores.append(auc)\n",
        "\n",
        "# Plotting\n",
        "plt.figure(figsize=(8, 5))\n",
        "plt.plot(n_estimators_list, auc_scores, marker='o', linestyle='-')\n",
        "plt.title(\"AUC Score vs n_estimators\")\n",
        "plt.xlabel(\"n_estimators\")\n",
        "plt.ylabel(\"AUC Score\")\n",
        "plt.grid(True)\n",
        "plt.show()\n"
      ],
      "metadata": {
        "colab": {
          "base_uri": "https://localhost:8080/",
          "height": 487
        },
        "id": "upKoltC8sNqj",
        "outputId": "9bc3bb12-7c6f-423d-e95a-e2c5e2a252fc"
      },
      "execution_count": 9,
      "outputs": [
        {
          "output_type": "display_data",
          "data": {
            "text/plain": [
              "<Figure size 800x500 with 1 Axes>"
            ],
            "image/png": "[encoded data removed]"
          },
          "metadata": {}
        }
      ]
    }
  ]
}