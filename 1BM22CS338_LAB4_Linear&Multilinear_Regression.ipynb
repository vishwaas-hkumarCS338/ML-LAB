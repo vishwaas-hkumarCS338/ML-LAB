{
  "nbformat": 4,
  "nbformat_minor": 0,
  "metadata": {
    "colab": {
      "provenance": []
    },
    "kernelspec": {
      "name": "python3",
      "display_name": "Python 3"
    },
    "language_info": {
      "name": "python"
    }
  },
  "cells": [
    {
      "cell_type": "markdown",
      "source": [
        "homeprices_Multiple_LR"
      ],
      "metadata": {
        "id": "yVXr-RUxp3vx"
      }
    },
    {
      "cell_type": "code",
      "source": [
        "import pandas as pd\n",
        "import numpy as np\n",
        "from sklearn.linear_model import LinearRegression\n",
        "\n",
        "# Load dataset\n",
        "df = pd.read_csv('homeprices_Multiple_LR.csv')\n",
        "\n",
        "# Handle missing values (Fill NA with median value)\n",
        "df['bedrooms'] = df['bedrooms'].fillna(df['bedrooms'].median())\n",
        "\n",
        "# Define features (X) and target (y)\n",
        "X = df.drop(columns=['price'])  # Independent variables\n",
        "y = df['price']  # Dependent variable\n",
        "\n",
        "# Train Linear Regression Model\n",
        "reg = LinearRegression()\n",
        "reg.fit(X, y)\n",
        "\n",
        "# Make predictions (Pass DataFrame instead of list)\n",
        "pred_df = pd.DataFrame({'area': [3000], 'bedrooms': [3], 'age': [40]})\n",
        "pred_price = reg.predict(pred_df)[0]\n",
        "\n",
        "# Print results\n",
        "print(f\"Predicted Price for 3000 sq ft, 3 bedrooms, 40 years old: ${pred_price:.2f}\")\n",
        "\n",
        "# Model parameters\n",
        "print(f\"Coefficients: {reg.coef_}\")\n",
        "print(f\"Intercept: {reg.intercept_}\")\n",
        "\n",
        "# Manual Calculation for Verification\n",
        "manual_price = (\n",
        "    reg.coef_[0] * 3000 +\n",
        "    reg.coef_[1] * 3 +\n",
        "    reg.coef_[2] * 40 +\n",
        "    reg.intercept_\n",
        ")\n",
        "print(f\"Manual Calculation for 3000 sq ft: ${manual_price:.2f}\")\n"
      ],
      "metadata": {
        "colab": {
          "base_uri": "https://localhost:8080/"
        },
        "id": "pnjYgIyGpIR5",
        "outputId": "5b156b34-5f24-4f54-b8fa-e8120b3ce5e1"
      },
      "execution_count": 39,
      "outputs": [
        {
          "output_type": "stream",
          "name": "stdout",
          "text": [
            "Predicted Price for 3000 sq ft, 3 bedrooms, 40 years old: $498408.25\n",
            "Coefficients: [  112.06244194 23388.88007794 -3231.71790863]\n",
            "Intercept: 221323.00186540396\n",
            "Manual Calculation for 3000 sq ft: $498408.25\n"
          ]
        }
      ]
    },
    {
      "cell_type": "markdown",
      "source": [
        "housing_area_price.csv"
      ],
      "metadata": {
        "id": "aBWhKtCCp6Q4"
      }
    },
    {
      "cell_type": "code",
      "source": [
        "import pandas as pd\n",
        "import numpy as np\n",
        "import matplotlib.pyplot as plt\n",
        "from sklearn.linear_model import LinearRegression\n",
        "\n",
        "# Load dataset\n",
        "df = pd.read_csv('housing_area_price.csv')\n",
        "\n",
        "# Scatter plot of area vs. price\n",
        "plt.scatter(df['area'], df['price'], color='red', marker='+')\n",
        "plt.xlabel('Area (sq ft)')\n",
        "plt.ylabel('Price ($)')\n",
        "plt.title('Housing Prices vs Area')\n",
        "plt.show()\n",
        "\n",
        "# Define features (X) and target (y)\n",
        "X = df[['area']]  # Independent variable (must be a DataFrame)\n",
        "y = df['price']   # Dependent variable\n",
        "\n",
        "# Train Linear Regression Model\n",
        "reg = LinearRegression()\n",
        "reg.fit(X, y)\n",
        "\n",
        "# Make predictions (Pass DataFrame instead of list)\n",
        "pred_df_3300 = pd.DataFrame({'area': [3300]})\n",
        "pred_df_5000 = pd.DataFrame({'area': [5000]})\n",
        "\n",
        "pred_price_3300 = reg.predict(pred_df_3300)[0]\n",
        "pred_price_5000 = reg.predict(pred_df_5000)[0]\n",
        "\n",
        "# Print results\n",
        "print(f\"Predicted Price for 3300 sq ft: ${pred_price_3300:.2f}\")\n",
        "print(f\"Predicted Price for 5000 sq ft: ${pred_price_5000:.2f}\")\n",
        "\n",
        "# Model parameters\n",
        "print(f\"Coefficient (m): {reg.coef_[0]:.2f}\")\n",
        "print(f\"Intercept (b): {reg.intercept_:.2f}\")\n",
        "\n",
        "# Manual Calculation for Verification\n",
        "manual_price_3300 = reg.coef_[0] * 3300 + reg.intercept_\n",
        "print(f\"Manual Calculation for 3300 sq ft: ${manual_price_3300:.2f}\")\n"
      ],
      "metadata": {
        "colab": {
          "base_uri": "https://localhost:8080/",
          "height": 559
        },
        "id": "KmdfyPNBprXT",
        "outputId": "f0c691e1-261b-41bf-8cee-699df0620f7a"
      },
      "execution_count": 41,
      "outputs": [
        {
          "output_type": "display_data",
          "data": {
            "text/plain": [
              "<Figure size 640x480 with 1 Axes>"
            ],
            "image/png": "[encoded data removed]"
          },
          "metadata": {}
        },
        {
          "output_type": "stream",
          "name": "stdout",
          "text": [
            "Predicted Price for 3300 sq ft: $628715.75\n",
            "Predicted Price for 5000 sq ft: $859554.79\n",
            "Coefficient (m): 135.79\n",
            "Intercept (b): 180616.44\n",
            "Manual Calculation for 3300 sq ft: $628715.75\n"
          ]
        }
      ]
    },
    {
      "cell_type": "markdown",
      "source": [
        "Canada_per_capita_income.csv and Salary.csv"
      ],
      "metadata": {
        "id": "7-TFybbBbp79"
      }
    },
    {
      "cell_type": "code",
      "source": [
        "# -*- coding: utf-8 -*-\n",
        "\n",
        "import pandas as pd\n",
        "import numpy as np\n",
        "from sklearn import linear_model\n",
        "from scipy.stats.mstats import winsorize\n",
        "\n",
        "# Load datasets\n",
        "canada_income_df = pd.read_csv(\"canada_per_capita_income.csv\")\n",
        "print(canada_income_df.head())\n",
        "print(\"\\n\")\n",
        "salary_df = pd.read_csv(\"salary.csv\")\n",
        "print(salary_df.head())\n",
        "print(\"\\n\")\n",
        "\n",
        "\"\"\"### Data Preprocessing\"\"\"\n",
        "\n",
        "# Handle missing values in YearsExperience\n",
        "salary_df.loc[:, 'YearsExperience'] = salary_df['YearsExperience'].fillna(salary_df['YearsExperience'].median())\n",
        "\n",
        "# Apply Winsorization to handle outliers\n",
        "salary_df[\"Salary\"] = winsorize(salary_df[\"Salary\"], limits=[0.05, 0.05])\n",
        "salary_df[\"YearsExperience\"] = winsorize(salary_df[\"YearsExperience\"], limits=[0.05, 0.05])\n",
        "\n",
        "\"\"\"### Canada Per Capita Income Prediction\"\"\"\n",
        "\n",
        "X_canada = canada_income_df[['year']]\n",
        "y_canada = canada_income_df['per capita income (US$)']\n",
        "\n",
        "# Create linear regression object\n",
        "reg_canada = linear_model.LinearRegression()\n",
        "reg_canada.fit(X_canada, y_canada)\n",
        "\n",
        "\"\"\"(1) Predict per capita income for 2020\"\"\"\n",
        "\n",
        "income_2020 = reg_canada.predict(pd.DataFrame([[2020]], columns=[\"year\"]))\n",
        "income_2020\n",
        "\n",
        "\"\"\"(2) Model Coefficients\"\"\"\n",
        "\n",
        "print(\"Coefficient:\",reg_canada.coef_)\n",
        "print(\"Intercept:\",reg_canada.intercept_)\n",
        "print(\"\\n\")\n",
        "\n",
        "\"\"\"### Employee Salary Prediction\"\"\"\n",
        "\n",
        "X_salary = salary_df[['YearsExperience']]\n",
        "y_salary = salary_df['Salary']\n",
        "\n",
        "# Create linear regression object\n",
        "reg_salary = linear_model.LinearRegression()\n",
        "reg_salary.fit(X_salary, y_salary)\n",
        "\n",
        "\"\"\"(1) Predict salary for an employee with 12 years of experience\"\"\"\n",
        "\n",
        "salary_12_years = reg_salary.predict(pd.DataFrame([[12]], columns=[\"YearsExperience\"]))\n",
        "salary_12_years\n",
        "\n",
        "\"\"\"(2) Model Coefficients\"\"\"\n",
        "\n",
        "print(\"Coefficient:\",reg_salary.coef_)\n",
        "print(\"Intercept:\",reg_salary.intercept_)\n",
        "print(\"\\n\")\n",
        "\n",
        "\"\"\"### Final Results\"\"\"\n",
        "print(f\"Predicted Per Capita Income for 2020: ${income_2020[0]:.2f}\")\n",
        "print(f\"Predicted Salary for 12 Years Experience: ${salary_12_years[0]:.2f}\")\n"
      ],
      "metadata": {
        "colab": {
          "base_uri": "https://localhost:8080/"
        },
        "id": "7QhjmpQ9akVn",
        "outputId": "540eec9f-8d91-4bc9-e2f7-2797d67d9e87"
      },
      "execution_count": 37,
      "outputs": [
        {
          "output_type": "stream",
          "name": "stdout",
          "text": [
            "   year  per capita income (US$)\n",
            "0  1970              3399.299037\n",
            "1  1971              3768.297935\n",
            "2  1972              4251.175484\n",
            "3  1973              4804.463248\n",
            "4  1974              5576.514583\n",
            "\n",
            "\n",
            "   YearsExperience  Salary\n",
            "0              1.1   39343\n",
            "1              1.3   46205\n",
            "2              1.5   37731\n",
            "3              2.0   43525\n",
            "4              2.2   39891\n",
            "\n",
            "\n",
            "Coefficient: [828.46507522]\n",
            "Intercept: -1632210.7578554575\n",
            "\n",
            "\n",
            "Coefficient: [9318.70908245]\n",
            "Intercept: 28079.143922303017\n",
            "\n",
            "\n",
            "Predicted Per Capita Income for 2020: $41288.69\n",
            "Predicted Salary for 12 Years Experience: $139903.65\n"
          ]
        }
      ]
    },
    {
      "cell_type": "markdown",
      "source": [
        "Hiring.csv"
      ],
      "metadata": {
        "id": "dFPhTnFsbw-b"
      }
    },
    {
      "cell_type": "code",
      "source": [
        "!pip install word2number"
      ],
      "metadata": {
        "colab": {
          "base_uri": "https://localhost:8080/"
        },
        "id": "hTmb5IQGeZDC",
        "outputId": "d3c0e86b-fadb-4e53-9d7d-437234d64f24"
      },
      "execution_count": 24,
      "outputs": [
        {
          "output_type": "stream",
          "name": "stdout",
          "text": [
            "Collecting word2number\n",
            "  Downloading word2number-1.1.zip (9.7 kB)\n",
            "  Preparing metadata (setup.py) ... \u001b[?25l\u001b[?25hdone\n",
            "Building wheels for collected packages: word2number\n",
            "  Building wheel for word2number (setup.py) ... \u001b[?25l\u001b[?25hdone\n",
            "  Created wheel for word2number: filename=word2number-1.1-py3-none-any.whl size=5568 sha256=718c51c59b49147f608eb1cf9a1949dc76650be2fedd2f78a49530318e495906\n",
            "  Stored in directory: /root/.cache/pip/wheels/cd/ef/ae/073b491b14d25e2efafcffca9e16b2ee6d114ec5c643ba4f06\n",
            "Successfully built word2number\n",
            "Installing collected packages: word2number\n",
            "Successfully installed word2number-1.1\n"
          ]
        }
      ]
    },
    {
      "cell_type": "code",
      "source": [
        "from word2number import w2n\n",
        "import pandas as pd\n",
        "from sklearn import linear_model\n",
        "\n",
        "# Load the dataset\n",
        "df = pd.read_csv('hiring.csv')\n",
        "\n",
        "# Preprocess the data\n",
        "df.experience = df.experience.fillna(\"zero\")\n",
        "df.experience = df.experience.apply(lambda x: w2n.word_to_num(x))\n",
        "df['test_score(out of 10)'] = df['test_score(out of 10)'].fillna(df['test_score(out of 10)'].median())\n",
        "\n",
        "# Create and train the linear regression model\n",
        "reg = linear_model.LinearRegression()\n",
        "X = df[['experience', 'test_score(out of 10)', 'interview_score(out of 10)']]\n",
        "y = df['salary($)']\n",
        "reg.fit(X, y)\n",
        "\n",
        "# Predict salaries for the given candidates\n",
        "candidates = pd.DataFrame([[2, 9, 6], [12, 10, 10]], columns=X.columns)\n",
        "predicted_salaries = reg.predict(candidates)\n",
        "\n",
        "print(f\"Predicted Salary for (2 yrs, 9 test, 6 interview): ${predicted_salaries[0]:.2f}\")\n",
        "print(f\"Predicted Salary for (12 yrs, 10 test, 10 interview): ${predicted_salaries[1]:.2f}\")\n"
      ],
      "metadata": {
        "colab": {
          "base_uri": "https://localhost:8080/"
        },
        "id": "HwP9b3JdcYOG",
        "outputId": "a530b5f2-9373-4e38-b520-b8880c711f9a"
      },
      "execution_count": 26,
      "outputs": [
        {
          "output_type": "stream",
          "name": "stdout",
          "text": [
            "Predicted Salary for (2 yrs, 9 test, 6 interview): $53205.97\n",
            "Predicted Salary for (12 yrs, 10 test, 10 interview): $92002.18\n"
          ]
        }
      ]
    },
    {
      "cell_type": "markdown",
      "source": [
        "1000_Companies.csv"
      ],
      "metadata": {
        "id": "O1WDGzXaetLm"
      }
    },
    {
      "cell_type": "code",
      "source": [
        "import pandas as pd\n",
        "from sklearn import linear_model\n",
        "\n",
        "# Load the dataset\n",
        "df = pd.read_csv('1000_Companies.csv')\n",
        "\n",
        "# Prepare the data\n",
        "X = df[['R&D Spend', 'Administration', 'Marketing Spend', 'State']]\n",
        "y = df['Profit']\n",
        "\n",
        "# Convert 'State' column to numerical using one-hot encoding\n",
        "X = pd.get_dummies(X, columns=['State'], drop_first=True)\n",
        "\n",
        "# Create and train the linear regression model\n",
        "reg = linear_model.LinearRegression()\n",
        "reg.fit(X, y)\n",
        "\n",
        "# Prepare the input for prediction\n",
        "rd_spend = 91694.48\n",
        "administration = 515841.3\n",
        "marketing_spend = 11931.24\n",
        "state = 'Florida'\n",
        "\n",
        "# Create a DataFrame for prediction input\n",
        "input_data = pd.DataFrame({'R&D Spend': [rd_spend],\n",
        "                           'Administration': [administration],\n",
        "                           'Marketing Spend': [marketing_spend],\n",
        "                           'State': [state]})\n",
        "\n",
        "# Apply one-hot encoding to the input data\n",
        "input_data = pd.get_dummies(input_data, columns=['State'], drop_first=True)\n",
        "\n",
        "# Ensure the input columns match the training data columns\n",
        "missing_cols = set(X.columns) - set(input_data.columns)\n",
        "for col in missing_cols:\n",
        "    input_data[col] = 0\n",
        "input_data = input_data[X.columns]\n",
        "\n",
        "# Make the prediction\n",
        "predicted_profit = reg.predict(input_data)\n",
        "\n",
        "print(\"Predicted profit:\", predicted_profit)"
      ],
      "metadata": {
        "colab": {
          "base_uri": "https://localhost:8080/"
        },
        "id": "FOjb4LfRewgW",
        "outputId": "776fdb3b-bc1e-475e-98f0-dd57b161acd5"
      },
      "execution_count": 29,
      "outputs": [
        {
          "output_type": "stream",
          "name": "stdout",
          "text": [
            "Predicted profit: [511017.34614637]\n"
          ]
        }
      ]
    }
  ]
}